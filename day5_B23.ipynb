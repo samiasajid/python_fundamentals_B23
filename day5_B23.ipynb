{
 "cells": [
  {
   "cell_type": "code",
   "execution_count": null,
   "metadata": {},
   "outputs": [],
   "source": [
    "introduction to the for loops:"
   ]
  },
  {
   "cell_type": "code",
   "execution_count": null,
   "metadata": {},
   "outputs": [],
   "source": []
  },
  {
   "cell_type": "code",
   "execution_count": 2,
   "metadata": {},
   "outputs": [],
   "source": [
    "Bank_customers=['arsh','kiran','ravi','usha','bhavya','deepak']   #6 customers, Axis Bank  "
   ]
  },
  {
   "cell_type": "code",
   "execution_count": 3,
   "metadata": {},
   "outputs": [],
   "source": [
    "# requirement: Greeting the customers----!\n",
    "\n",
    "Axis Bank wishes you a very happy new year, arsh, kiran.."
   ]
  },
  {
   "cell_type": "code",
   "execution_count": null,
   "metadata": {},
   "outputs": [],
   "source": [
    "#regular way:"
   ]
  },
  {
   "cell_type": "code",
   "execution_count": 4,
   "metadata": {},
   "outputs": [
    {
     "name": "stdout",
     "output_type": "stream",
     "text": [
      "Axis Bank wishes you a very happy new year, Arsh\n"
     ]
    }
   ],
   "source": [
    "print(f\"Axis Bank wishes you a very happy new year, {Bank_customers[0].title()}\")"
   ]
  },
  {
   "cell_type": "code",
   "execution_count": 5,
   "metadata": {},
   "outputs": [
    {
     "name": "stdout",
     "output_type": "stream",
     "text": [
      "Axis Bank wishes you a very happy new year, Kiran\n"
     ]
    }
   ],
   "source": [
    "print(f\"Axis Bank wishes you a very happy new year, {Bank_customers[1].title()}\")"
   ]
  },
  {
   "cell_type": "code",
   "execution_count": 6,
   "metadata": {},
   "outputs": [],
   "source": [
    "# to automate the solution"
   ]
  },
  {
   "cell_type": "code",
   "execution_count": 7,
   "metadata": {},
   "outputs": [
    {
     "name": "stdout",
     "output_type": "stream",
     "text": [
      "Axis Bank wishes you a very happy new year, arsh\n",
      "Axis Bank wishes you a very happy new year, kiran\n",
      "Axis Bank wishes you a very happy new year, ravi\n",
      "Axis Bank wishes you a very happy new year, usha\n",
      "Axis Bank wishes you a very happy new year, bhavya\n",
      "Axis Bank wishes you a very happy new year, deepak\n"
     ]
    }
   ],
   "source": [
    "for customers in Bank_customers:\n",
    "    print(f\"Axis Bank wishes you a very happy new year, {customers}\")"
   ]
  },
  {
   "cell_type": "code",
   "execution_count": null,
   "metadata": {},
   "outputs": [],
   "source": [
    "# gernal syntax for a 'for loop':\n",
    "\n",
    "for tempvar in mainvar:   #indentation:\n",
    "    print(tempvar)"
   ]
  },
  {
   "cell_type": "code",
   "execution_count": 9,
   "metadata": {},
   "outputs": [
    {
     "name": "stdout",
     "output_type": "stream",
     "text": [
      "Axis Bank wishes you a very happy new year, arsh\n",
      "Axis Bank wishes you a very happy new year, kiran\n",
      "Axis Bank wishes you a very happy new year, ravi\n",
      "Axis Bank wishes you a very happy new year, usha\n",
      "Axis Bank wishes you a very happy new year, bhavya\n",
      "Axis Bank wishes you a very happy new year, deepak\n"
     ]
    }
   ],
   "source": [
    "for batman in Bank_customers:\n",
    "    print(f\"Axis Bank wishes you a very happy new year, {batman}\")"
   ]
  },
  {
   "cell_type": "code",
   "execution_count": 30,
   "metadata": {},
   "outputs": [
    {
     "name": "stdout",
     "output_type": "stream",
     "text": [
      "Axis Bank wishes you a very happy new year, arsh\n",
      "Axis Bank wishes you a very happy new year, kiran\n",
      "Axis Bank wishes you a very happy new year, ravi\n",
      "Axis Bank wishes you a very happy new year, usha\n",
      "Axis Bank wishes you a very happy new year, bhavya\n",
      "Axis Bank wishes you a very happy new year, deepak\n"
     ]
    }
   ],
   "source": [
    "for x in Bank_customers:\n",
    "    print(f\"Axis Bank wishes you a very happy new year, {x}\")"
   ]
  },
  {
   "cell_type": "code",
   "execution_count": null,
   "metadata": {},
   "outputs": [],
   "source": []
  },
  {
   "cell_type": "code",
   "execution_count": 11,
   "metadata": {},
   "outputs": [],
   "source": [
    "my_students=('rahul','ashish','shadeena','samia','suresh')"
   ]
  },
  {
   "cell_type": "code",
   "execution_count": null,
   "metadata": {},
   "outputs": [],
   "source": [
    "# requirement: To appreciate my students "
   ]
  },
  {
   "cell_type": "code",
   "execution_count": 29,
   "metadata": {},
   "outputs": [
    {
     "name": "stdout",
     "output_type": "stream",
     "text": [
      "keep up the goodle work, Rahul\n",
      "keep up the goodle work, Ashish\n",
      "keep up the goodle work, Shadeena\n",
      "keep up the goodle work, Samia\n",
      "keep up the goodle work, Suresh\n"
     ]
    }
   ],
   "source": [
    "for student in my_students:\n",
    "    print(f\"keep up the goodle work, {student.title()}\")"
   ]
  },
  {
   "cell_type": "code",
   "execution_count": 27,
   "metadata": {},
   "outputs": [],
   "source": [
    "# additional requirement: i am waiting to receive your practise files of today. "
   ]
  },
  {
   "cell_type": "code",
   "execution_count": 26,
   "metadata": {},
   "outputs": [
    {
     "name": "stdout",
     "output_type": "stream",
     "text": [
      "Keep up the good work, Rahul\n",
      "I am waiting to recive your practise files of today, rahul\n",
      "Keep up the good work, Ashish\n",
      "I am waiting to recive your practise files of today, ashish\n",
      "Keep up the good work, Shadeena\n",
      "I am waiting to recive your practise files of today, shadeena\n",
      "Keep up the good work, Samia\n",
      "I am waiting to recive your practise files of today, samia\n",
      "Keep up the good work, Suresh\n",
      "I am waiting to recive your practise files of today, suresh\n"
     ]
    }
   ],
   "source": [
    "for y in my_students:\n",
    "    print(f\"Keep up the good work, {y.title()}\")\n",
    "    print(f\"I am waiting to recive your practise files of today, {y}\")"
   ]
  },
  {
   "cell_type": "code",
   "execution_count": 28,
   "metadata": {},
   "outputs": [],
   "source": [
    "# enhancement of the code."
   ]
  },
  {
   "cell_type": "code",
   "execution_count": 25,
   "metadata": {},
   "outputs": [
    {
     "name": "stdout",
     "output_type": "stream",
     "text": [
      "Keep up the good work, Rahul\n",
      "I am waiting to recive your practise files of today, rahul.\n",
      "\n",
      "Keep up the good work, Ashish\n",
      "I am waiting to recive your practise files of today, ashish.\n",
      "\n",
      "Keep up the good work, Shadeena\n",
      "I am waiting to recive your practise files of today, shadeena.\n",
      "\n",
      "Keep up the good work, Samia\n",
      "I am waiting to recive your practise files of today, samia.\n",
      "\n",
      "Keep up the good work, Suresh\n",
      "I am waiting to recive your practise files of today, suresh.\n",
      "\n"
     ]
    }
   ],
   "source": [
    "for y in my_students:\n",
    "    print(f\"Keep up the good work, {y.title()}\")\n",
    "    print(f\"I am waiting to recive your practise files of today, {y}.\\n\")"
   ]
  },
  {
   "cell_type": "code",
   "execution_count": 24,
   "metadata": {},
   "outputs": [
    {
     "name": "stdout",
     "output_type": "stream",
     "text": [
      "Keep up the good work, Rahul\n",
      "I am waiting to recive your practise files of today, rahul.\n",
      "\n",
      "Keep up the good work, Ashish\n",
      "I am waiting to recive your practise files of today, ashish.\n",
      "\n",
      "Keep up the good work, Shadeena\n",
      "I am waiting to recive your practise files of today, shadeena.\n",
      "\n",
      "Keep up the good work, Samia\n",
      "I am waiting to recive your practise files of today, samia.\n",
      "\n",
      "Keep up the good work, Suresh\n",
      "I am waiting to recive your practise files of today, suresh.\n",
      "\n",
      "Thank you all for joining in the python training sessions!\n"
     ]
    }
   ],
   "source": [
    "for y in my_students:\n",
    "    print(f\"Keep up the good work, {y.title()}\")\n",
    "    print(f\"I am waiting to recive your practise files of today, {y}.\\n\")\n",
    "    \n",
    "print('Thank you all for joining in the python training sessions!')"
   ]
  },
  {
   "cell_type": "code",
   "execution_count": null,
   "metadata": {},
   "outputs": [],
   "source": []
  }
 ],
 "metadata": {
  "kernelspec": {
   "display_name": "Python 3",
   "language": "python",
   "name": "python3"
  },
  "language_info": {
   "codemirror_mode": {
    "name": "ipython",
    "version": 3
   },
   "file_extension": ".py",
   "mimetype": "text/x-python",
   "name": "python",
   "nbconvert_exporter": "python",
   "pygments_lexer": "ipython3",
   "version": "3.7.6"
  }
 },
 "nbformat": 4,
 "nbformat_minor": 4
}
